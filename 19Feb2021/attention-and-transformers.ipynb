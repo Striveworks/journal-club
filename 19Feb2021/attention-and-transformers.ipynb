{
 "cells": [
  {
   "cell_type": "code",
   "execution_count": null,
   "metadata": {},
   "outputs": [],
   "source": [
    "\"\"\"\n",
    "Author: Eric Korman -> Cofounder/CSO @ Striveworks\n",
    "\"\"\""
   ]
  },
  {
   "cell_type": "markdown",
   "metadata": {},
   "source": [
    "# Attention and Transformers"
   ]
  },
  {
   "cell_type": "markdown",
   "metadata": {},
   "source": [
    "## Imports and helper functions"
   ]
  },
  {
   "cell_type": "code",
   "execution_count": 1,
   "metadata": {},
   "outputs": [],
   "source": [
    "import math\n",
    "from itertools import product\n",
    "import random\n",
    "\n",
    "import matplotlib.pyplot as plt\n",
    "import numpy as np\n",
    "import torch\n",
    "import torch.nn as nn\n",
    "import torch.nn.functional as F\n",
    "from torch.optim import SGD, Adam\n",
    "from torch.utils.data import DataLoader, Dataset\n",
    "from tqdm.notebook import tqdm"
   ]
  },
  {
   "cell_type": "code",
   "execution_count": 2,
   "metadata": {},
   "outputs": [],
   "source": [
    "def smooth(scalars, weight):\n",
    "    last = scalars[0]\n",
    "    smoothed = []\n",
    "    for point in scalars:\n",
    "        smoothed_val = last * weight + (1 - weight) * point\n",
    "        smoothed.append(smoothed_val)\n",
    "        last = smoothed_val\n",
    "    return smoothed"
   ]
  },
  {
   "cell_type": "code",
   "execution_count": 3,
   "metadata": {},
   "outputs": [],
   "source": [
    "def compute_accuracy(dset):\n",
    "    dl = DataLoader(dset, batch_size=32)\n",
    "    all_preds, all_labels = [], []\n",
    "    for x, y in tqdm(dl):\n",
    "        all_preds.extend(model(x).argmax(1).cpu().numpy().tolist())\n",
    "        all_labels.extend(y.cpu().numpy().tolist())\n",
    "    \n",
    "    return (np.array(all_preds) == np.array(all_labels)).sum() / len(all_labels)"
   ]
  },
  {
   "cell_type": "markdown",
   "metadata": {},
   "source": [
    "## Basic mechanism"
   ]
  },
  {
   "cell_type": "markdown",
   "metadata": {},
   "source": [
    "The attention mechanism operates on sequences (or really sets) of vectors. Let $\\mathbb{R}^{L \\times d}$ denote the space of length $L$ sequences of vectors in $\\mathbb R^d$. For $v \\in \\mathbb{R}^{L \\times d}$ we denote the sequence as $(v_1, \\ldots, v_L), ~~ v_i \\in \\mathbb R^d$.\n",
    "\n",
    "The basic attention mechanism is the map\n",
    "$$\n",
    "\\operatorname{att} : \\mathbb{R}^{L_1 \\times d_1} \\times \\mathbb{R}^{L_2 \\times d_1} \\times \\mathbb{R}^{L_2 \\times d_2} \\to \\mathbb{R}^{L_1 \\times d_2}\n",
    "$$\n",
    "defined by\n",
    "$$\n",
    "[\\operatorname{att}(q, k, v)]_i = \\sum_j \\alpha_{ij}(q, k) v_j\n",
    "$$\n",
    "where\n",
    "$$\n",
    "\\alpha_{ij}(q, k) = \\operatorname{softmax}\\left(\\frac{q_i \\cdot k_1}{\\sqrt d_1}, \\ldots, \\frac{q_i \\cdot k_{L_2}}{\\sqrt d_1}\\right)_j.\n",
    "$$\n",
    "\n",
    "In words, $\\alpha_{ij}$ is the similarity between the ith element of the first sequence and the jth element of the second (normalized via softmax across the second sequence). The result of attention at index $i$ is then a weighted sum of all of the elements of $v$, weighted so that $v_j$ is favored if the similarity between $q_i$ and $k_j$ is large.\n",
    "\n",
    "### Bibliography\n",
    "This type of mechanism was first introduced in:\n",
    "\n",
    "Dzmitry Bahdanau, Kyunghyun Cho, and Yoshua Bengio. ***Neural machine translation by jointly learning to align and translate.*** ICLR 2015."
   ]
  },
  {
   "cell_type": "markdown",
   "metadata": {},
   "source": [
    "### PyTorch implementation"
   ]
  },
  {
   "cell_type": "code",
   "execution_count": 4,
   "metadata": {},
   "outputs": [],
   "source": [
    "def alpha(q, k):\n",
    "    \"\"\" Computes pairwise (in a batch) normalized inner products between Q and K.\n",
    "    \n",
    "    Parameters\n",
    "    ----------\n",
    "    q : torch.Tensor\n",
    "        shape [N, L1, DK] where N is the batch size\n",
    "    k : torch.Tensor\n",
    "        shape [N, L2, DK]\n",
    "    \n",
    "    Returns\n",
    "    -------\n",
    "    torch.Tensor\n",
    "        shape [N, L1, L2]\n",
    "    \"\"\"\n",
    "    alpha = torch.einsum(\"nik,njk->nij\", q, k) / q.shape[-1]**(1/2)\n",
    "    alpha = F.softmax(alpha, dim=-1)\n",
    "    return alpha\n",
    "\n",
    "def attention(q, k, v):\n",
    "    \"\"\" scalar dot product attention\n",
    "    \n",
    "    Parameters\n",
    "    ----------\n",
    "    q : torch.Tensor\n",
    "        shape [N, L1, DK] where N is the batch size\n",
    "    k : torch.Tensor\n",
    "        shape [N, L2, DK]\n",
    "    v : torch.Tensor\n",
    "        shape [N, L2, DV]\n",
    "    \n",
    "    Returns\n",
    "    -------\n",
    "    torch.Tensor\n",
    "        shape [N, L1, DV]\n",
    "    \"\"\"\n",
    "    return torch.einsum(\"nij,njk->nik\", alpha(q, k), v)"
   ]
  },
  {
   "cell_type": "markdown",
   "metadata": {},
   "source": [
    "## Multi-head self-attention"
   ]
  },
  {
   "cell_type": "markdown",
   "metadata": {},
   "source": [
    "Typically, $k$ and $v$ will come from the same underlying sequence $y \\in \\mathbb{R}^{L_2 \\times \\tilde d}$ via maps\n",
    "$K: \\mathbb R^{\\tilde d} \\to \\mathbb R^{d_1}, ~~ V: \\mathbb R^{\\tilde d} \\to \\mathbb R^{d_2}$:\n",
    "$$\n",
    "k = (K(y_1), \\ldots, K(y_{L_2})), ~~ v = (V(y_1), \\ldots, V(y_{L_2}))\n",
    "$$\n",
    "and similarly with $q$, with it coming from a sequence $x \\in \\mathbb R^{L_1\\times \\hat d}$ via a map $Q: \\mathbb R^{\\hat d} \\to \\mathbb R^{d_1}$.\n",
    "\n",
    "The names $q, k$, and $v$ stand for *query*, *key*, and *v* and this nomenclature helps in understanding the mechanism. For example, suppose we want to do a bulk query on something like a google image search. Think of:\n",
    "* $(x_1, \\ldots, x_{L_1})$ as the search terms (free text).\n",
    "* $Q$ as a word embedding, producting vectors.\n",
    "* $(y_1, \\ldots, y_{L_2})$ as a sequence of tuples of images and text descriptions in the database.\n",
    "* $K$ as taking $y_j$ to the word embeddings of the text descriptions.\n",
    "* $V$ as taking $y_j$ to the underlying image.\n",
    "\n",
    "Then if instead of softmaxing we took the argmax, the attention output at index $i$ would be the best image for the search term $x_i$.\n",
    "\n",
    "In many cases $y = x$, which leads to *self-attention*. Furthermore, it has been found useful to run multiple attention mechanisms in parallel, leading to *multi-head self-attention*. In this case each of the $h$ attention heads will output a sequence of vectors in $\\mathbb R^{d / h}$, where $d$ is the dimension of the vectors in $x$. These then get concatenated and to form a sequence of vectors in $\\mathbb R^d$ and then supercomposed via a linear map $\\mathbb R^d \\to \\mathbb R^d$.\n",
    "\n",
    "### Bibliography\n",
    "Multi-head self-attention was introduced in the work:\n",
    "\n",
    "Ashish Vaswani, et al. ***Attention is all you need.*** NIPS 2017.\n",
    "\n",
    "which is the paper that introduced transformers.\n"
   ]
  },
  {
   "cell_type": "markdown",
   "metadata": {
    "heading_collapsed": "true"
   },
   "source": [
    "### PyTorch implementation"
   ]
  },
  {
   "cell_type": "code",
   "execution_count": 5,
   "metadata": {},
   "outputs": [],
   "source": [
    "class MultiHeadSelfAttention(nn.Module):\n",
    "    def __init__(self, h, d):\n",
    "        \"\"\"\n",
    "        Parameters\n",
    "        ----------\n",
    "        h : int\n",
    "            number of heads\n",
    "        d : int\n",
    "            dimension of the vectors/encodings\n",
    "        \"\"\"\n",
    "        super().__init__()\n",
    "        # output of the Q, K, V maps are typically d // h so that introducting new heads\n",
    "        # does not add more parameters.\n",
    "        self.Qs = nn.ModuleList([nn.Linear(d, d // h) for _ in range(h)])\n",
    "        self.Ks = nn.ModuleList([nn.Linear(d, d // h) for _ in range(h)])\n",
    "        self.Vs = nn.ModuleList([nn.Linear(d, d // h) for _ in range(h)])\n",
    "        self.W = nn.Linear(d, d)\n",
    "    \n",
    "    def forward(self, x):\n",
    "        \"\"\"\n",
    "        Parameters\n",
    "        ----------\n",
    "        x : torch.Tensor\n",
    "            shape [N, L, self.d]\n",
    "        \n",
    "        Returns\n",
    "        -------\n",
    "        torch.Tensor\n",
    "            shape [N, L, self.d]\n",
    "        \"\"\"\n",
    "        out = [attention(Q(x), K(x), V(x)) for Q, K, V in zip(self.Qs, self.Ks, self.Vs)]\n",
    "        out = torch.cat(out, dim=-1)\n",
    "        out = self.W(out)\n",
    "        return out"
   ]
  },
  {
   "cell_type": "markdown",
   "metadata": {},
   "source": [
    "## Transformers"
   ]
  },
  {
   "cell_type": "markdown",
   "metadata": {},
   "source": [
    "We stay in the setting of self-attention and let $x \\in \\mathbb R^{L \\times d}$.\n",
    "\n",
    "### Positional encoding\n",
    "So far everything we have discussed is equivariant under permuting the elements of the sequence $x$ (i.e. we are operating on the set of the sequence). In NLP language we are using a \"bag of words\" approach. Obviously for many applications the order of elements is important and so the position of an element must be encoded. The idea of positional encoding is to produce for each index $i$ a vector in $\\mathbb R^d$ such that\n",
    "\n",
    "* Each component of the vector is in $[0, 1]$ (standard practice for neural networks).\n",
    "* The closeness of positional encodings correlates to closeness of indices.\n",
    "\n",
    "In the ***Attention is all you need*** paper they suggest the following encoding of position $i$\n",
    "$$\n",
    "pe(i) = \\left(\\sin(i), \\cos(i), \\sin(i / 10000^{2 / d}), \\cos(i / 10000^{2 / d}), \\ldots, \\cos(i / 1000 \\right)\n",
    "$$\n",
    "\n",
    "This gets added to the input $x$ before going through the attention layer.\n",
    "\n",
    "### Feed-forward NN\n",
    "For more expressivity we can add a simple MLP $FF: \\mathbb R^d \\to \\mathbb R^d$ that acts on each component of the sequence after the attention layer.\n",
    "\n",
    "### Putting it all together\n",
    "Putting it all together, the fundamental building block of a transformer is a map $\\mathbb R^{L \\times d} \\to \\mathbb R^{L \\times d}$ of the form\n",
    "$$\n",
    "x \\mapsto FF(\\operatorname{mhsa}(x + pe) + x + pe)\n",
    "$$\n",
    "which can then be composed."
   ]
  },
  {
   "cell_type": "markdown",
   "metadata": {},
   "source": [
    "### PyTorch implementation"
   ]
  },
  {
   "cell_type": "code",
   "execution_count": 6,
   "metadata": {},
   "outputs": [],
   "source": [
    "class FeedForward(nn.Module):\n",
    "    def __init__(self, d, d_inter):\n",
    "        super().__init__()\n",
    "        self.linear1 = nn.Linear(d, d_inter)\n",
    "        self.linear2 = nn.Linear(d_inter, d)\n",
    "    \n",
    "    def forward(self, x):\n",
    "        \"\"\"\n",
    "        Parameters\n",
    "        ----------\n",
    "        x : torch.Tensor\n",
    "            shape [N, L, d]\n",
    "        \n",
    "        Returns\n",
    "        -------\n",
    "        torch.Tensor\n",
    "            shape [N, L, d]\n",
    "        \"\"\"\n",
    "        return self.linear2(torch.relu(self.linear1(x)))\n",
    "\n",
    "class TransformerLayer(nn.Module):\n",
    "    def __init__(self, d, d_inter, h):\n",
    "        \"\"\"\n",
    "        Parameters\n",
    "        ----------\n",
    "        d : int\n",
    "            dimension of input vectors\n",
    "        d_inter : int\n",
    "            hidden layer dimension of MLP\n",
    "        h : int\n",
    "            number of heads\n",
    "        \"\"\"\n",
    "        super().__init__()\n",
    "        self.mha = MultiHeadSelfAttention(h, d)\n",
    "        self.ff = FeedForward(d, d_inter)\n",
    "        self.linear = nn.Linear(d, 2)\n",
    "        \n",
    "        pe = torch.zeros(L, d)\n",
    "        position = torch.arange(0, L, dtype=torch.float).unsqueeze(1)\n",
    "        div_term = torch.exp(torch.arange(0, d, 2).float() * (-math.log(10000) / d))\n",
    "        pe[:, 0::2] = torch.sin(position * div_term)\n",
    "        pe[:, 1::2] = torch.cos(position * div_term)\n",
    "        self.pe = pe\n",
    "        \n",
    "    def forward(self, x):\n",
    "        x = x.float() + self.pe\n",
    "        out = self.mha(x)\n",
    "        out = self.ff(x + out)\n",
    "        return out"
   ]
  },
  {
   "cell_type": "markdown",
   "metadata": {},
   "source": [
    "## Example"
   ]
  },
  {
   "cell_type": "markdown",
   "metadata": {},
   "source": [
    "We will do a very simple example of learning to classify sequences as Fibonacci sequences or not. We will use one, single-headed transformer layer and with no feedforward network."
   ]
  },
  {
   "cell_type": "markdown",
   "metadata": {},
   "source": [
    "### Model"
   ]
  },
  {
   "cell_type": "code",
   "execution_count": 7,
   "metadata": {},
   "outputs": [],
   "source": [
    "class SimpleTransformer(nn.Module):\n",
    "    def __init__(self, d, d_inter, h):\n",
    "        super().__init__()\n",
    "        self.mha = MultiHeadSelfAttention(h, d)\n",
    "        self.linear = nn.Linear(d, 2)\n",
    "        \n",
    "        pe = torch.zeros(L, d)\n",
    "        position = torch.arange(0, L, dtype=torch.float).unsqueeze(1)\n",
    "        div_term = torch.exp(torch.arange(0, d, 2).float() * (-math.log(10000) / d))\n",
    "        pe[:, 0::2] = torch.sin(position * div_term)\n",
    "        pe[:, 1::2] = torch.cos(position * div_term)\n",
    "        self.pe = pe\n",
    "        \n",
    "    def forward(self, x):\n",
    "        x = x.float()\n",
    "        out = self.mha(x + self.pe)\n",
    "        out =  x + self.pe + out\n",
    "        out = self.linear(out.sum(1))\n",
    "        return F.log_softmax(out, dim=-1)"
   ]
  },
  {
   "cell_type": "code",
   "execution_count": 8,
   "metadata": {},
   "outputs": [
    {
     "name": "stdout",
     "output_type": "stream",
     "text": [
      "Total number of parameters in model: 462\n"
     ]
    }
   ],
   "source": [
    "h, d = 1, 10 # 5, 10\n",
    "N, L = 16, 6\n",
    "model = SimpleTransformer(d, 32, h)\n",
    "print(f\"Total number of parameters in model: {sum([p.numel() for p in model.parameters()])}\")"
   ]
  },
  {
   "cell_type": "markdown",
   "metadata": {},
   "source": [
    "### Dataset"
   ]
  },
  {
   "cell_type": "code",
   "execution_count": 9,
   "metadata": {},
   "outputs": [],
   "source": [
    "class FibDataset(Dataset):\n",
    "    \"\"\" Fibonacci dataset. At even indices it returns a Fibonacci sequence. At odd indices\n",
    "    it returns a permutation of a Fibonacci sequence or a sequence with the recursive defition\n",
    "    x_i = x_{i - 1} + x_{i - 3}\n",
    "    \"\"\"\n",
    "    def __init__(self, start_pairs):\n",
    "        self.start_pairs = start_pairs\n",
    "        self.seq_length = 6\n",
    "        \n",
    "    def __getitem__(self, index):\n",
    "        if index % 4 == 0 or index % 4 == 2:\n",
    "            label = 1\n",
    "            seq = self.gen_fib(self.start_pairs[index // 2])\n",
    "        elif index % 4 == 1:\n",
    "            label = 0\n",
    "            seq = self.gen_fib(self.start_pairs[(index - 1) // 2])\n",
    "            seq = np.take(seq, np.random.permutation(self.seq_length))\n",
    "        else:\n",
    "            label = 0\n",
    "            seq = self.gen_non_fib(self.start_pairs[(index - 1) // 2])\n",
    "            \n",
    "        return torch.tensor([[int(c) for c in format(s, \"010b\")] for s in seq]), label\n",
    "    \n",
    "    def __len__(self):\n",
    "        return 2 * len(self.start_pairs)\n",
    "\n",
    "    def gen_fib(self, start_pair):\n",
    "        ret = list(start_pair)\n",
    "        while len(ret) < self.seq_length:\n",
    "            ret.append(ret[-1] + ret[-2])\n",
    "        return ret\n",
    "    \n",
    "    def gen_non_fib(self, start_pair):\n",
    "        ret = list(start_pair)\n",
    "        while len(ret) < self.seq_length:\n",
    "            if len(ret) < 3:\n",
    "                ret.append(ret[-1] + ret[-2] + 1)\n",
    "            else:\n",
    "                ret.append(ret[-1] + ret[-3])\n",
    "        return ret"
   ]
  },
  {
   "cell_type": "code",
   "execution_count": 10,
   "metadata": {},
   "outputs": [],
   "source": [
    "start_pairs = list(product(range(100), range(100)))\n",
    "train_data = random.sample(start_pairs, int(len(start_pairs) * .9))\n",
    "val_data = [t for t in start_pairs if t not in train_data]\n",
    "train_dset = FibDataset(train_data)\n",
    "val_dset = FibDataset(val_data)\n",
    "train_dl = DataLoader(train_dset, batch_size=32, shuffle=True)"
   ]
  },
  {
   "cell_type": "markdown",
   "metadata": {},
   "source": [
    "### Training"
   ]
  },
  {
   "cell_type": "code",
   "execution_count": 11,
   "metadata": {},
   "outputs": [],
   "source": [
    "# opt = SGD(params=model.parameters(), lr=1e-1)\n",
    "opt = Adam(params=model.parameters(), lr=1e-2)"
   ]
  },
  {
   "cell_type": "code",
   "execution_count": 12,
   "metadata": {},
   "outputs": [
    {
     "data": {
      "application/vnd.jupyter.widget-view+json": {
       "model_id": "ffc1157dbe9648c1935c72aed2f80614",
       "version_major": 2,
       "version_minor": 0
      },
      "text/plain": [
       "HBox(children=(FloatProgress(value=0.0, max=2252.0), HTML(value='')))"
      ]
     },
     "metadata": {},
     "output_type": "display_data"
    }
   ],
   "source": [
    "n_epochs = 4\n",
    "losses = []\n",
    "pbar = tqdm(total=len(train_dl) * n_epochs)\n",
    "for epoch in range(n_epochs):\n",
    "    for x, y in train_dl:\n",
    "        preds = model(x)\n",
    "        \n",
    "        loss = F.nll_loss(preds, y)\n",
    "        opt.zero_grad()\n",
    "        loss.backward()\n",
    "        opt.step()\n",
    "        \n",
    "        losses.append(loss.item())\n",
    "        pbar.set_description(f\"[{epoch + 1} / {n_epochs}] loss: {loss:.4f}\")\n",
    "        pbar.update()"
   ]
  },
  {
   "cell_type": "markdown",
   "metadata": {},
   "source": [
    "### Loss function"
   ]
  },
  {
   "cell_type": "code",
   "execution_count": 13,
   "metadata": {},
   "outputs": [
    {
     "data": {
      "text/plain": [
       "[<matplotlib.lines.Line2D at 0x7fa459eca810>]"
      ]
     },
     "execution_count": 13,
     "metadata": {},
     "output_type": "execute_result"
    },
    {
     "data": {
      "image/png": "[encoded data removed]",
      "text/plain": [
       "<Figure size 432x288 with 1 Axes>"
      ]
     },
     "metadata": {
      "needs_background": "light"
     },
     "output_type": "display_data"
    }
   ],
   "source": [
    "plt.plot(smooth(losses, .9))"
   ]
  },
  {
   "cell_type": "markdown",
   "metadata": {},
   "source": [
    "### Train accuracy"
   ]
  },
  {
   "cell_type": "code",
   "execution_count": 14,
   "metadata": {},
   "outputs": [
    {
     "data": {
      "application/vnd.jupyter.widget-view+json": {
       "model_id": "bec8b0a48ed442d29237836b633e97de",
       "version_major": 2,
       "version_minor": 0
      },
      "text/plain": [
       "HBox(children=(FloatProgress(value=0.0, max=563.0), HTML(value='')))"
      ]
     },
     "metadata": {},
     "output_type": "display_data"
    },
    {
     "name": "stdout",
     "output_type": "stream",
     "text": [
      "\n"
     ]
    },
    {
     "data": {
      "text/plain": [
       "0.9458333333333333"
      ]
     },
     "execution_count": 14,
     "metadata": {},
     "output_type": "execute_result"
    }
   ],
   "source": [
    "compute_accuracy(train_dset)"
   ]
  },
  {
   "cell_type": "markdown",
   "metadata": {},
   "source": [
    "### Val accuracy"
   ]
  },
  {
   "cell_type": "code",
   "execution_count": 15,
   "metadata": {},
   "outputs": [
    {
     "data": {
      "application/vnd.jupyter.widget-view+json": {
       "model_id": "29327e24aba44fc99217d89821d932b5",
       "version_major": 2,
       "version_minor": 0
      },
      "text/plain": [
       "HBox(children=(FloatProgress(value=0.0, max=63.0), HTML(value='')))"
      ]
     },
     "metadata": {},
     "output_type": "display_data"
    },
    {
     "name": "stdout",
     "output_type": "stream",
     "text": [
      "\n"
     ]
    },
    {
     "data": {
      "text/plain": [
       "0.95"
      ]
     },
     "execution_count": 15,
     "metadata": {},
     "output_type": "execute_result"
    }
   ],
   "source": [
    "compute_accuracy(val_dset)"
   ]
  },
  {
   "cell_type": "markdown",
   "metadata": {},
   "source": [
    "### Self-attention heatmap"
   ]
  },
  {
   "cell_type": "code",
   "execution_count": 16,
   "metadata": {},
   "outputs": [
    {
     "data": {
      "application/vnd.jupyter.widget-view+json": {
       "model_id": "84c3de9bccae49cb9cd6f25273820b43",
       "version_major": 2,
       "version_minor": 0
      },
      "text/plain": [
       "HBox(children=(FloatProgress(value=0.0, max=2000.0), HTML(value='')))"
      ]
     },
     "metadata": {},
     "output_type": "display_data"
    },
    {
     "name": "stdout",
     "output_type": "stream",
     "text": [
      "\n"
     ]
    }
   ],
   "source": [
    "alphas = np.zeros((6, 6))\n",
    "for x, y in iter(tqdm(val_dset)):\n",
    "    x_pe = x.float().unsqueeze(0) + model.pe\n",
    "    q, k, v = model.mha.Qs[0](x_pe), model.mha.Ks[0](x_pe), model.mha.Vs[0](x_pe)\n",
    "    alphas += alpha(q, k)[0].detach().numpy()\n",
    "\n",
    "alphas /= len(val_dset)"
   ]
  },
  {
   "cell_type": "code",
   "execution_count": 17,
   "metadata": {},
   "outputs": [
    {
     "data": {
      "text/plain": [
       "<matplotlib.image.AxesImage at 0x7fa45a163950>"
      ]
     },
     "execution_count": 17,
     "metadata": {},
     "output_type": "execute_result"
    },
    {
     "data": {
      "image/png": "[encoded data removed]",
      "text/plain": [
       "<Figure size 432x288 with 1 Axes>"
      ]
     },
     "metadata": {
      "needs_background": "light"
     },
     "output_type": "display_data"
    }
   ],
   "source": [
    "plt.imshow(alphas)"
   ]
  },
  {
   "cell_type": "code",
   "execution_count": null,
   "metadata": {},
   "outputs": [],
   "source": []
  }
 ],
 "metadata": {
  "kernelspec": {
   "display_name": "Python 3",
   "language": "python",
   "name": "python3"
  },
  "language_info": {
   "codemirror_mode": {
    "name": "ipython",
    "version": 3
   },
   "file_extension": ".py",
   "mimetype": "text/x-python",
   "name": "python",
   "nbconvert_exporter": "python",
   "pygments_lexer": "ipython3",
   "version": "3.6.9"
  }
 },
 "nbformat": 4,
 "nbformat_minor": 4
}
